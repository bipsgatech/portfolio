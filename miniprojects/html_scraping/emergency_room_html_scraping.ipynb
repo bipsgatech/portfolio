{
 "cells": [
  {
   "cell_type": "code",
   "execution_count": 1,
   "metadata": {},
   "outputs": [],
   "source": [
    "import requests #==2.22.0==py37_1\n",
    "import lxml.html as lh #==4.5.0==py37h1350720_0\n",
    "import pandas as pd #==1.0.1==py37h47e9c7a_0\n",
    "import numpy as np #==1.18.1==py37h93ca92e_0\n",
    "import matplotlib.pyplot as plt #==3.1.3==py37_0"
   ]
  },
  {
   "cell_type": "markdown",
   "metadata": {},
   "source": [
    "# ER Inspector Scraper\n",
    "\n",
    "This notebook was created to help others utilize data stored at \n",
    "https://projects.propublica.org/emergency (specifically the state \n",
    "without having to manually type in the time until admission\n",
    "and time until sent home values. Hospital_names is hacky but works\n",
    "for all intended states.\n",
    "\n",
    "<font color='red'>Samples (hospitals) with one of more missing values\n",
    "are not included</font>"
   ]
  },
  {
   "cell_type": "markdown",
   "metadata": {},
   "source": [
    "### The list of tested states"
   ]
  },
  {
   "cell_type": "code",
   "execution_count": 2,
   "metadata": {},
   "outputs": [],
   "source": [
    "states = [\"AL\", \"AK\", \"AZ\", \"AR\", \"CA\", \"CO\", \"CT\", \"DC\", \"DE\", \"FL\", \"GA\", \n",
    "          \"HI\", \"ID\", \"IL\", \"IN\", \"IA\", \"KS\", \"KY\", \"LA\", \"ME\", \"MD\", \n",
    "          \"MA\", \"MI\", \"MN\", \"MS\", \"MO\", \"MT\", \"NE\", \"NV\", \"NH\", \"NJ\", \n",
    "          \"NM\", \"NY\", \"NC\", \"ND\", \"OH\", \"OK\", \"OR\", \"PA\", \"RI\", \"SC\", \n",
    "          \"SD\", \"TN\", \"TX\", \"UT\", \"VT\", \"VA\", \"WA\", \"WV\", \"WI\", \"WY\"]"
   ]
  },
  {
   "cell_type": "markdown",
   "metadata": {},
   "source": [
    "### Examples are beneath main function declaration"
   ]
  },
  {
   "cell_type": "code",
   "execution_count": 3,
   "metadata": {},
   "outputs": [],
   "source": [
    "def import_state_info(state_abbrev, hospital_names=False):\n",
    "    url='https://projects.propublica.org/emergency/state/'+state_abbrev\n",
    "    #Create a handle, page, to handle the contents of the website\n",
    "    page = requests.get(url)\n",
    "    #Store the contents of the website under doc\n",
    "    doc = lh.fromstring(page.content)\n",
    "    #Parse data that are stored between <span>..</span> of HTML\n",
    "    # e.g. data is stored like <span> 5 <span> : </span> 40 </span> for whatever reason\n",
    "    # thats how the table is coded.\n",
    "    span_elements = doc.xpath('//span')\n",
    "    \n",
    "    # Because of how the table is separated, split by colons to get a bunch of junk +\n",
    "    # elements of the form [hour, minutes].\n",
    "    textlist = []\n",
    "    for s in span_elements:\n",
    "        textlist.append(s.text_content().split(':'))\n",
    "\n",
    "\n",
    "\n",
    "        \n",
    "    # convert list to numpy array for easier slicing\n",
    "    textlist = np.array(textlist)\n",
    "    \n",
    "    # Turns out there's a pattern that can be exploited for missing data, it's a\n",
    "    # very specific property of this table, split by values of textlist==['']\n",
    "    idx_list = [idx for idx, val in enumerate(textlist) if (val ==['']) or (val==textlist[-1])]\n",
    "    # using [''] as a separator, take the values in between each. \n",
    "    slices_list = np.array([textlist[idx_list[i]:idx_list[i+1]] for i in range(len(idx_list)-1)])\n",
    "    # Can find where missing values lie by calculating the # of elements between\n",
    "    # each separator. \n",
    "    len_slices = np.array([len(s) for s in slices_list])\n",
    "    # \"good\" data is where length = 5 or 6 (6 implies violation value)\n",
    "    useable_data_idx = np.where(np.logical_or(len_slices==5, len_slices==6))[0]\n",
    "    pruned_slices_list = slices_list[useable_data_idx]\n",
    "    \n",
    "    # with the \"good\" data, convert strings to \n",
    "    # total minutes (again very specific operation)\n",
    "    sent_home_times=[]\n",
    "    admission_times=[]\n",
    "    for p in pruned_slices_list:\n",
    "        tmp = p[:5]\n",
    "        # This accounts for the heterogeneity when the data\n",
    "        # value is labelled as '## min', such as\n",
    "        # Allendale hospital for South Carolina\n",
    "        try:\n",
    "            sent_home_times.append(60*int(tmp[1][0]) + int(tmp[1][1]))\n",
    "        except (IndexError, ValueError):\n",
    "            sent_home_times.append(int(tmp[1][0].split(' ')[0]))\n",
    "        try:\n",
    "            admission_times.append(60*int(tmp[3][0]) + int(tmp[3][1]))\n",
    "        except (IndexError, ValueError):\n",
    "            admission_times.append(int(tmp[3][0].split(' ')[0]))\n",
    "    # put into numpy array and reshape for easier DataFrame initialization\n",
    "    two_column_array = np.concatenate((np.array(sent_home_times).reshape(-1,1), \n",
    "                                       np.array(admission_times).reshape(-1,1)),axis=1)\n",
    "\n",
    "    df = pd.DataFrame(two_column_array,columns=['time_until_sent_home','time_until_admitted'])\n",
    "\n",
    "\n",
    "    if hospital_names:\n",
    "        try:\n",
    "            name_elements = doc.xpath('//a')\n",
    "            namelist = []\n",
    "            for n in name_elements:\n",
    "                namelist.append(n.text_content().split(':'))\n",
    "\n",
    "            namelist = np.array(namelist)\n",
    "            hospitals_idx = useable_data_idx - useable_data_idx.min()\n",
    "            df.index = namelist[9:-12][hospitals_idx].flatten()\n",
    "        except:\n",
    "            pass\n",
    "\n",
    "    return df"
   ]
  },
  {
   "cell_type": "markdown",
   "metadata": {},
   "source": [
    "####  <font color='red'>***First***</font> 5 values of Georgia "
   ]
  },
  {
   "cell_type": "code",
   "execution_count": 4,
   "metadata": {},
   "outputs": [
    {
     "data": {
      "text/html": [
       "<div>\n",
       "<style scoped>\n",
       "    .dataframe tbody tr th:only-of-type {\n",
       "        vertical-align: middle;\n",
       "    }\n",
       "\n",
       "    .dataframe tbody tr th {\n",
       "        vertical-align: top;\n",
       "    }\n",
       "\n",
       "    .dataframe thead th {\n",
       "        text-align: right;\n",
       "    }\n",
       "</style>\n",
       "<table border=\"1\" class=\"dataframe\">\n",
       "  <thead>\n",
       "    <tr style=\"text-align: right;\">\n",
       "      <th></th>\n",
       "      <th>time_until_sent_home</th>\n",
       "      <th>time_until_admitted</th>\n",
       "    </tr>\n",
       "  </thead>\n",
       "  <tbody>\n",
       "    <tr>\n",
       "      <th>0</th>\n",
       "      <td>122</td>\n",
       "      <td>247</td>\n",
       "    </tr>\n",
       "    <tr>\n",
       "      <th>1</th>\n",
       "      <td>178</td>\n",
       "      <td>364</td>\n",
       "    </tr>\n",
       "    <tr>\n",
       "      <th>2</th>\n",
       "      <td>141</td>\n",
       "      <td>250</td>\n",
       "    </tr>\n",
       "    <tr>\n",
       "      <th>3</th>\n",
       "      <td>109</td>\n",
       "      <td>208</td>\n",
       "    </tr>\n",
       "    <tr>\n",
       "      <th>4</th>\n",
       "      <td>90</td>\n",
       "      <td>236</td>\n",
       "    </tr>\n",
       "  </tbody>\n",
       "</table>\n",
       "</div>"
      ],
      "text/plain": [
       "   time_until_sent_home  time_until_admitted\n",
       "0                   122                  247\n",
       "1                   178                  364\n",
       "2                   141                  250\n",
       "3                   109                  208\n",
       "4                    90                  236"
      ]
     },
     "execution_count": 4,
     "metadata": {},
     "output_type": "execute_result"
    }
   ],
   "source": [
    "# Scrape the HTML and put store it in a Pandas DataFrame object\n",
    "GA = import_state_info('GA')\n",
    "GA.head(5)"
   ]
  },
  {
   "cell_type": "markdown",
   "metadata": {},
   "source": [
    "####  <font color='red'>***Last***</font> 5 samples of South Carolina"
   ]
  },
  {
   "cell_type": "code",
   "execution_count": 5,
   "metadata": {},
   "outputs": [
    {
     "data": {
      "text/html": [
       "<div>\n",
       "<style scoped>\n",
       "    .dataframe tbody tr th:only-of-type {\n",
       "        vertical-align: middle;\n",
       "    }\n",
       "\n",
       "    .dataframe tbody tr th {\n",
       "        vertical-align: top;\n",
       "    }\n",
       "\n",
       "    .dataframe thead th {\n",
       "        text-align: right;\n",
       "    }\n",
       "</style>\n",
       "<table border=\"1\" class=\"dataframe\">\n",
       "  <thead>\n",
       "    <tr style=\"text-align: right;\">\n",
       "      <th></th>\n",
       "      <th>time_until_sent_home</th>\n",
       "      <th>time_until_admitted</th>\n",
       "    </tr>\n",
       "  </thead>\n",
       "  <tbody>\n",
       "    <tr>\n",
       "      <th>st francis-downtown</th>\n",
       "      <td>161</td>\n",
       "      <td>296</td>\n",
       "    </tr>\n",
       "    <tr>\n",
       "      <th>tidelands health</th>\n",
       "      <td>124</td>\n",
       "      <td>254</td>\n",
       "    </tr>\n",
       "    <tr>\n",
       "      <th>tidelands waccamaw community hospital</th>\n",
       "      <td>163</td>\n",
       "      <td>260</td>\n",
       "    </tr>\n",
       "    <tr>\n",
       "      <th>trident medical center</th>\n",
       "      <td>116</td>\n",
       "      <td>322</td>\n",
       "    </tr>\n",
       "    <tr>\n",
       "      <th>union medical center</th>\n",
       "      <td>126</td>\n",
       "      <td>221</td>\n",
       "    </tr>\n",
       "  </tbody>\n",
       "</table>\n",
       "</div>"
      ],
      "text/plain": [
       "                                       time_until_sent_home  \\\n",
       "st francis-downtown                                     161   \n",
       "tidelands health                                        124   \n",
       "tidelands waccamaw community hospital                   163   \n",
       "trident medical center                                  116   \n",
       "union medical center                                    126   \n",
       "\n",
       "                                       time_until_admitted  \n",
       "st francis-downtown                                    296  \n",
       "tidelands health                                       254  \n",
       "tidelands waccamaw community hospital                  260  \n",
       "trident medical center                                 322  \n",
       "union medical center                                   221  "
      ]
     },
     "execution_count": 5,
     "metadata": {},
     "output_type": "execute_result"
    }
   ],
   "source": [
    "# Scrape the HTML and put store it in a Pandas DataFrame object\n",
    "# This time, with the hospital names\n",
    "SC = import_state_info('SC', hospital_names=True)\n",
    "SC.tail(5)"
   ]
  },
  {
   "cell_type": "markdown",
   "metadata": {},
   "source": [
    "#### Pandas statistics"
   ]
  },
  {
   "cell_type": "code",
   "execution_count": 6,
   "metadata": {},
   "outputs": [
    {
     "data": {
      "text/html": [
       "<div>\n",
       "<style scoped>\n",
       "    .dataframe tbody tr th:only-of-type {\n",
       "        vertical-align: middle;\n",
       "    }\n",
       "\n",
       "    .dataframe tbody tr th {\n",
       "        vertical-align: top;\n",
       "    }\n",
       "\n",
       "    .dataframe thead th {\n",
       "        text-align: right;\n",
       "    }\n",
       "</style>\n",
       "<table border=\"1\" class=\"dataframe\">\n",
       "  <thead>\n",
       "    <tr style=\"text-align: right;\">\n",
       "      <th></th>\n",
       "      <th>time_until_sent_home</th>\n",
       "      <th>time_until_admitted</th>\n",
       "    </tr>\n",
       "  </thead>\n",
       "  <tbody>\n",
       "    <tr>\n",
       "      <th>count</th>\n",
       "      <td>54.000000</td>\n",
       "      <td>54.000000</td>\n",
       "    </tr>\n",
       "    <tr>\n",
       "      <th>mean</th>\n",
       "      <td>147.777778</td>\n",
       "      <td>279.018519</td>\n",
       "    </tr>\n",
       "    <tr>\n",
       "      <th>std</th>\n",
       "      <td>43.580620</td>\n",
       "      <td>72.048330</td>\n",
       "    </tr>\n",
       "    <tr>\n",
       "      <th>min</th>\n",
       "      <td>58.000000</td>\n",
       "      <td>166.000000</td>\n",
       "    </tr>\n",
       "    <tr>\n",
       "      <th>25%</th>\n",
       "      <td>119.250000</td>\n",
       "      <td>244.000000</td>\n",
       "    </tr>\n",
       "    <tr>\n",
       "      <th>50%</th>\n",
       "      <td>136.500000</td>\n",
       "      <td>261.000000</td>\n",
       "    </tr>\n",
       "    <tr>\n",
       "      <th>75%</th>\n",
       "      <td>172.000000</td>\n",
       "      <td>317.750000</td>\n",
       "    </tr>\n",
       "    <tr>\n",
       "      <th>max</th>\n",
       "      <td>292.000000</td>\n",
       "      <td>544.000000</td>\n",
       "    </tr>\n",
       "  </tbody>\n",
       "</table>\n",
       "</div>"
      ],
      "text/plain": [
       "       time_until_sent_home  time_until_admitted\n",
       "count             54.000000            54.000000\n",
       "mean             147.777778           279.018519\n",
       "std               43.580620            72.048330\n",
       "min               58.000000           166.000000\n",
       "25%              119.250000           244.000000\n",
       "50%              136.500000           261.000000\n",
       "75%              172.000000           317.750000\n",
       "max              292.000000           544.000000"
      ]
     },
     "execution_count": 6,
     "metadata": {},
     "output_type": "execute_result"
    }
   ],
   "source": [
    "SC.describe()"
   ]
  },
  {
   "cell_type": "code",
   "execution_count": 7,
   "metadata": {},
   "outputs": [
    {
     "name": "stdout",
     "output_type": "stream",
     "text": [
      "The mean is 147.78 minutes\n"
     ]
    }
   ],
   "source": [
    "# Pandas has lots of built-in methods and slicing features, similar to NumPy\n",
    "print('The mean is %.2f minutes' % SC.time_until_sent_home.mean())"
   ]
  },
  {
   "cell_type": "code",
   "execution_count": 8,
   "metadata": {},
   "outputs": [
    {
     "data": {
      "image/png": "[encoded data removed]",
      "text/plain": [
       "<Figure size 432x288 with 1 Axes>"
      ]
     },
     "metadata": {
      "needs_background": "light"
     },
     "output_type": "display_data"
    }
   ],
   "source": [
    "SC.time_until_sent_home.plot.hist(bins=20, alpha=0.5)\n",
    "GA.time_until_sent_home.plot.hist(bins=20, alpha=0.5)\n",
    "_ = plt.legend(['SC', 'GA'])\n",
    "_ = plt.xlabel('Time until sent home (minutes)')\n",
    "_ = plt.show()"
   ]
  },
  {
   "cell_type": "code",
   "execution_count": 9,
   "metadata": {},
   "outputs": [],
   "source": [
    "# Export data examples\n",
    "SC.to_csv('SC_emergency_room.csv', index=False)\n",
    "GA.to_csv('GA_emergency_room.csv', index=False)\n",
    "import_state_info('MN').to_csv('MN_emergency_room.csv', index=False)"
   ]
  }
 ],
 "metadata": {
  "kernelspec": {
   "display_name": "Python 3",
   "language": "python",
   "name": "python3"
  },
  "language_info": {
   "codemirror_mode": {
    "name": "ipython",
    "version": 3
   },
   "file_extension": ".py",
   "mimetype": "text/x-python",
   "name": "python",
   "nbconvert_exporter": "python",
   "pygments_lexer": "ipython3",
   "version": "3.7.6"
  }
 },
 "nbformat": 4,
 "nbformat_minor": 4
}
